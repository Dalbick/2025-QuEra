{
 "cells": [
  {
   "cell_type": "code",
   "execution_count": 2,
   "id": "811ec4bb-93a1-4d98-ad96-e3a743857fc3",
   "metadata": {},
   "outputs": [
    {
     "ename": "ModuleNotFoundError",
     "evalue": "No module named 'iquhack_scoring'",
     "output_type": "error",
     "traceback": [
      "\u001b[0;31m---------------------------------------------------------------------------\u001b[0m",
      "\u001b[0;31mModuleNotFoundError\u001b[0m                       Traceback (most recent call last)",
      "Cell \u001b[0;32mIn[2], line 1\u001b[0m\n\u001b[0;32m----> 1\u001b[0m \u001b[38;5;28;01mfrom\u001b[39;00m \u001b[38;5;21;01miquhack_scoring\u001b[39;00m \u001b[38;5;28;01mimport\u001b[39;00m MoveScorer\n\u001b[1;32m      2\u001b[0m \u001b[38;5;28;01mfrom\u001b[39;00m \u001b[38;5;21;01mbloqade\u001b[39;00m \u001b[38;5;28;01mimport\u001b[39;00m move\n\u001b[1;32m      3\u001b[0m \u001b[38;5;28;01mimport\u001b[39;00m \u001b[38;5;21;01mmath\u001b[39;00m\n",
      "\u001b[0;31mModuleNotFoundError\u001b[0m: No module named 'iquhack_scoring'"
     ]
    }
   ],
   "source": [
    "from iquhack_scoring import MoveScorer\n",
    "from bloqade import move\n",
    "import math\n",
    "from kirin.passes import aggressive\n",
    "import matplotlib as plt"
   ]
  },
  {
   "cell_type": "code",
   "execution_count": 3,
   "id": "924937fa-aa4b-44a8-82e4-a018ae750236",
   "metadata": {},
   "outputs": [
    {
     "ename": "NameError",
     "evalue": "name 'math' is not defined",
     "output_type": "error",
     "traceback": [
      "\u001b[0;31m---------------------------------------------------------------------------\u001b[0m",
      "\u001b[0;31mNameError\u001b[0m                                 Traceback (most recent call last)",
      "Cell \u001b[0;32mIn[3], line 1\u001b[0m\n\u001b[0;32m----> 1\u001b[0m pi \u001b[38;5;241m=\u001b[39m \u001b[43mmath\u001b[49m\u001b[38;5;241m.\u001b[39mpi\n",
      "\u001b[0;31mNameError\u001b[0m: name 'math' is not defined"
     ]
    }
   ],
   "source": [
    "pi = math.pi"
   ]
  },
  {
   "cell_type": "code",
   "execution_count": 4,
   "id": "153c439b-aabd-41df-a721-7146ccc6a7f4",
   "metadata": {},
   "outputs": [
    {
     "ename": "NameError",
     "evalue": "name 'move' is not defined",
     "output_type": "error",
     "traceback": [
      "\u001b[0;31m---------------------------------------------------------------------------\u001b[0m",
      "\u001b[0;31mNameError\u001b[0m                                 Traceback (most recent call last)",
      "Cell \u001b[0;32mIn[4], line 1\u001b[0m\n\u001b[0;32m----> 1\u001b[0m \u001b[38;5;129m@move\u001b[39m\u001b[38;5;241m.\u001b[39mvmove()\n\u001b[1;32m      2\u001b[0m \u001b[38;5;28;01mdef\u001b[39;00m \u001b[38;5;21mlocal_double_xy_rotation\u001b[39m(state:move\u001b[38;5;241m.\u001b[39mcore\u001b[38;5;241m.\u001b[39mAtomState, a, b, c, d, indices) \u001b[38;5;241m-\u001b[39m\u001b[38;5;241m>\u001b[39m move\u001b[38;5;241m.\u001b[39mcore\u001b[38;5;241m.\u001b[39mAtomState:\n\u001b[1;32m      3\u001b[0m     state \u001b[38;5;241m=\u001b[39m move\u001b[38;5;241m.\u001b[39mLocalXY(atom_state\u001b[38;5;241m=\u001b[39mstate,x_exponent\u001b[38;5;241m=\u001b[39ma,axis_phase_exponent\u001b[38;5;241m=\u001b[39mb,indices \u001b[38;5;241m=\u001b[39m indices)\n\u001b[1;32m      4\u001b[0m     state \u001b[38;5;241m=\u001b[39m move\u001b[38;5;241m.\u001b[39mLocalXY(atom_state\u001b[38;5;241m=\u001b[39mstate,x_exponent\u001b[38;5;241m=\u001b[39mc,axis_phase_exponent\u001b[38;5;241m=\u001b[39md,indices \u001b[38;5;241m=\u001b[39m indices)\n",
      "\u001b[0;31mNameError\u001b[0m: name 'move' is not defined"
     ]
    }
   ],
   "source": [
    "@move.vmove()\n",
    "def local_double_xy_rotation(state:move.core.AtomState, a, b, c, d, indices) -> move.core.AtomState:\n",
    "    state = move.LocalXY(atom_state=state,x_exponent=a,axis_phase_exponent=b,indices = indices)\n",
    "    state = move.LocalXY(atom_state=state,x_exponent=c,axis_phase_exponent=d,indices = indices)\n",
    "    \n",
    "    return state"
   ]
  },
  {
   "cell_type": "code",
   "execution_count": 5,
   "id": "1a5b07c2-f76e-4386-9863-04bb4b34aacf",
   "metadata": {},
   "outputs": [
    {
     "ename": "NameError",
     "evalue": "name 'move' is not defined",
     "output_type": "error",
     "traceback": [
      "\u001b[0;31m---------------------------------------------------------------------------\u001b[0m",
      "\u001b[0;31mNameError\u001b[0m                                 Traceback (most recent call last)",
      "Cell \u001b[0;32mIn[5], line 1\u001b[0m\n\u001b[0;32m----> 1\u001b[0m \u001b[38;5;129m@move\u001b[39m\u001b[38;5;241m.\u001b[39mvmove()\n\u001b[1;32m      2\u001b[0m \u001b[38;5;28;01mdef\u001b[39;00m \u001b[38;5;21mlocal_z_rotation\u001b[39m(state:move\u001b[38;5;241m.\u001b[39mcore\u001b[38;5;241m.\u001b[39mAtomState, a, indices)\u001b[38;5;241m-\u001b[39m\u001b[38;5;241m>\u001b[39m move\u001b[38;5;241m.\u001b[39mcore\u001b[38;5;241m.\u001b[39mAtomState:\n\u001b[1;32m      3\u001b[0m     state \u001b[38;5;241m=\u001b[39m move\u001b[38;5;241m.\u001b[39mLocalRz(atom_state\u001b[38;5;241m=\u001b[39mstate,phi\u001b[38;5;241m=\u001b[39ma,indices\u001b[38;5;241m=\u001b[39mindices)\n",
      "\u001b[0;31mNameError\u001b[0m: name 'move' is not defined"
     ]
    }
   ],
   "source": [
    "@move.vmove()\n",
    "def local_z_rotation(state:move.core.AtomState, a, indices)-> move.core.AtomState:\n",
    "    state = move.LocalRz(atom_state=state,phi=a,indices=indices)"
   ]
  },
  {
   "cell_type": "code",
   "execution_count": 6,
   "id": "f32f71e0-3c9e-4364-918a-d0b88cd21913",
   "metadata": {},
   "outputs": [
    {
     "ename": "NameError",
     "evalue": "name 'move' is not defined",
     "output_type": "error",
     "traceback": [
      "\u001b[0;31m---------------------------------------------------------------------------\u001b[0m",
      "\u001b[0;31mNameError\u001b[0m                                 Traceback (most recent call last)",
      "Cell \u001b[0;32mIn[6], line 1\u001b[0m\n\u001b[0;32m----> 1\u001b[0m \u001b[38;5;129m@move\u001b[39m\u001b[38;5;241m.\u001b[39mvmove()\n\u001b[1;32m      2\u001b[0m \u001b[38;5;28;01mdef\u001b[39;00m \u001b[38;5;21mcirc2\u001b[39m():\n\u001b[1;32m      3\u001b[0m     q \u001b[38;5;241m=\u001b[39m move\u001b[38;5;241m.\u001b[39mNewQubitRegister(\u001b[38;5;241m3\u001b[39m)\n\u001b[1;32m      4\u001b[0m     qubits \u001b[38;5;241m=\u001b[39m [q[\u001b[38;5;241m0\u001b[39m], q[\u001b[38;5;241m1\u001b[39m], q[\u001b[38;5;241m2\u001b[39m]]\n",
      "\u001b[0;31mNameError\u001b[0m: name 'move' is not defined"
     ]
    }
   ],
   "source": [
    "@move.vmove()\n",
    "def circ2():\n",
    "    q = move.NewQubitRegister(3)\n",
    "    qubits = [q[0], q[1], q[2]]\n",
    "    indices = [0, 1, 2]\n",
    "\n",
    "    state = move.Init(qubits=qubits, indices=indices)\n",
    "    state.gate[[0, 2, 3]] = move.Move(state.storage[[0, 1, 2]])\n",
    "    state = local_rz(state, math.pi*3/4, [3])\n",
    "    state = local_rxy(state, math.pi/2, math.pi/4, [3])\n",
    "    state = move.core.GlobalCZ(state)\n",
    "    state = local_rz(state, -math.pi/4, [3])\n",
    "    state = move.core.GlobalCZ(state)\n",
    "    state = local_rz(state, math.pi/8, [3])\n",
    "    state = local_rz(state, math.pi*3/4, [2])\n",
    "    state = local_rxy(state, math.pi/2, math.pi/4, [2])\n",
    "    state.gate[[1]] = move.Move(state.gate[[3]])\n",
    "    state = move.core.GlobalCZ(state)\n",
    "    state = local_rz(state, -math.pi/8, [1])\n",
    "    state = move.core.GlobalCZ(state)\n",
    "    state.gate[[3]] = move.Move(state.gate[[0]])\n",
    "    state = move.core.GlobalCZ(state)\n",
    "    state = local_rz(state, -math.pi/4, [2])\n",
    "    state = move.core.GlobalCZ(state)\n",
    "    state = local_rz(state, math.pi/2, [3])\n",
    "    state = local_rxy(state, math.pi/2, math.pi/2, [3])\n",
    "    move.Execute(state)\n",
    "    \n",
    "aggressive.Fold(move.vmove)(circ2)\n",
    "    "
   ]
  },
  {
   "cell_type": "code",
   "execution_count": null,
   "id": "f52cc617-2671-4ab2-855b-b7c9a5b21a55",
   "metadata": {},
   "outputs": [],
   "source": []
  }
 ],
 "metadata": {
  "kernelspec": {
   "display_name": "Python 3 [Default]",
   "language": "python",
   "name": "python3"
  },
  "language_info": {
   "codemirror_mode": {
    "name": "ipython",
    "version": 3
   },
   "file_extension": ".py",
   "mimetype": "text/x-python",
   "name": "python",
   "nbconvert_exporter": "python",
   "pygments_lexer": "ipython3",
   "version": "3.11.9"
  }
 },
 "nbformat": 4,
 "nbformat_minor": 5
}
