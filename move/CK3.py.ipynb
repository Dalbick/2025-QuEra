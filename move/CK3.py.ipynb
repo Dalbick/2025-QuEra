{
 "cells": [
  {
   "cell_type": "code",
   "execution_count": 1,
   "id": "5b51dc9e-31c3-4eb6-baa2-018e5707c67e",
   "metadata": {},
   "outputs": [],
   "source": [
    "from iquhack_scoring import MoveScorer\n",
    "from bloqade import move\n",
    "import math\n",
    "from kirin.passes import aggressive\n",
    "import matplotlib as plt"
   ]
  },
  {
   "cell_type": "code",
   "execution_count": 2,
   "id": "ec4828f7-8117-4c40-a470-be4cc3a95073",
   "metadata": {},
   "outputs": [],
   "source": [
    "pi = math.pi"
   ]
  },
  {
   "cell_type": "code",
   "execution_count": null,
   "id": "49f9f97a-b994-4d1c-abc5-1d93d65f24ea",
   "metadata": {},
   "outputs": [],
   "source": [
    "@move.vmove\n",
    "def circ():\n",
    "    q = move.NewQubitRegister(4)\n",
    "    qubits = [q[0], q[1], q[2], q[3]]\n",
    "    indices = [0, 1, 2, 3]\n",
    "\n",
    "    state = move.GlobalXY(atom_state=state,x_exponent=-0.5*pi,axis_phase_exponent=-1.81)\n",
    "    state = move.GlobalXY(atom_state=state,x_exponent=1.0*pi,axis_phase_exponent=-0.122)\n",
    "\n",
    "    state.gate[[0]] = move.Move(state.storage[[0]])\n",
    "\n",
    "    state = move.LocalXY(atom_state=state, x_exponent=-0.5*pi, axis_phase_exponent=-1.81*pi, indices = [0])\n",
    "    state = move.LocalXY(atom_state=state, x_exponent=1.0*pi, axis_phase_exponent=-0.122*pi, indices = [0])\n",
    "    \n"
   ]
  }
 ],
 "metadata": {
  "kernelspec": {
   "display_name": "Python 3 [QuEra]",
   "language": "python",
   "name": "python3_querai_uzkoe7"
  },
  "language_info": {
   "codemirror_mode": {
    "name": "ipython",
    "version": 3
   },
   "file_extension": ".py",
   "mimetype": "text/x-python",
   "name": "python",
   "nbconvert_exporter": "python",
   "pygments_lexer": "ipython3",
   "version": "3.11.9"
  }
 },
 "nbformat": 4,
 "nbformat_minor": 5
}
