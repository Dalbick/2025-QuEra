{
 "cells": [
  {
   "cell_type": "code",
   "execution_count": null,
   "id": "c0c8789a-ce96-4a73-9196-b297d28f6f2b",
   "metadata": {},
   "outputs": [],
   "source": [
    "from qiskit import QuantumCircuit, transpile\n",
    "from math import pi\n",
    "\n",
    "circ = QuantumCircuit(17);\n",
    "\n",
    "circ.h(3)\n",
    "circ.h(4)\n",
    "circ.h(6)\n",
    "circ.h(11)\n",
    "circ.h(12)\n",
    "circ.h(14)\n",
    "circ.h(15)\n",
    "circ.h(16)\n",
    "circ.cx(2, 10)\n",
    "circ.cx(2, 9)\n",
    "circ.cx(2, 8)\n",
    "circ.cx(2, 5)\n",
    "circ.cx(4, 2)\n",
    "circ.cx(4, 1)\n",
    "circ.cx(3, 1)\n",
    "circ.cx(4, 5)\n",
    "circ.cx(3, 0)\n",
    "circ.cx(3, 4)\n",
    "circ.cx(6, 2)\n",
    "circ.cx(6, 5)\n",
    "circ.cx(6, 7)\n",
    "circ.cx(11, 3)\n",
    "circ.cx(11, 4)\n",
    "circ.cx(11, 5)\n",
    "circ.cx(11, 6)\n",
    "circ.cx(11, 8)\n",
    "circ.cx(11, 9)\n",
    "circ.cx(11, 10)\n",
    "circ.cx(14, 8)\n",
    "circ.cx(14, 9)\n",
    "circ.cx(14, 13)\n",
    "circ.cx(15, 9)\n",
    "circ.cx(15, 10)\n",
    "circ.cx(15, 14)\n",
    "circ.cx(16, 13)\n",
    "circ.cx(16, 14)\n",
    "circ.cx(16, 15)\n",
    "\n",
    "circ.draw('mpl')"
   ]
  },
  {
   "cell_type": "code",
   "execution_count": null,
   "id": "059a60d7-e75f-431c-a509-307982cbc892",
   "metadata": {},
   "outputs": [],
   "source": []
  }
 ],
 "metadata": {
  "kernelspec": {
   "display_name": "Python 3 [Default]",
   "language": "python",
   "name": "python3"
  },
  "language_info": {
   "codemirror_mode": {
    "name": "ipython",
    "version": 3
   },
   "file_extension": ".py",
   "mimetype": "text/x-python",
   "name": "python",
   "nbconvert_exporter": "python",
   "pygments_lexer": "ipython3",
   "version": "3.11.9"
  }
 },
 "nbformat": 4,
 "nbformat_minor": 5
}
