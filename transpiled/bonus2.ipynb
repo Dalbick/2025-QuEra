{
 "cells": [
  {
   "cell_type": "code",
   "execution_count": null,
   "id": "25e86fd8-a13a-4cfa-ad97-6070ac4e9053",
   "metadata": {},
   "outputs": [],
   "source": [
    "from qiskit import QuantumCircuit, transpile\n",
    "from math import pi\n",
    "\n",
    "circ = QuantumCircuit(17);\n",
    "\n",
    "circ.h(4)\n",
    "circ.h(6)\n",
    "circ.h(10)\n",
    "circ.h(12)\n",
    "circ.cx(3, 0)\n",
    "circ.cx(4, 7)\n",
    "circ.cx(10, 14)\n",
    "circ.cx(6, 9)\n",
    "circ.cx(15, 12)\n",
    "circ.cx(8, 5)\n",
    "circ.cx(4, 1)\n",
    "circ.cx(7, 5)\n",
    "circ.cx(10, 8)\n",
    "circ.cx(14, 11)\n",
    "circ.cx(2, 0)\n",
    "circ.cx(6, 3)\n",
    "circ.cx(2, 5)\n",
    "circ.cx(6, 8)\n",
    "circ.cx(10, 13)\n",
    "circ.cx(14, 16)\n",
    "circ.cx(9, 11)\n",
    "circ.cx(12, 15)\n",
    "circ.cx(6, 2)\n",
    "circ.cx(10, 7)\n",
    "circ.cx(13, 16)\n",
    "circ.cx(1, 5)\n",
    "circ.cx(12, 9)\n",
    "circ.cx(8, 11)\n",
    "circ.h(4)\n",
    "circ.h(6)\n",
    "circ.h(10)\n",
    "circ.h(12)\n",
    "\n",
    "circ.draw('mpl')\n"
   ]
  }
 ],
 "metadata": {
  "kernelspec": {
   "display_name": "Python 3 [Default]",
   "language": "python",
   "name": "python3"
  },
  "language_info": {
   "codemirror_mode": {
    "name": "ipython",
    "version": 3
   },
   "file_extension": ".py",
   "mimetype": "text/x-python",
   "name": "python",
   "nbconvert_exporter": "python",
   "pygments_lexer": "ipython3",
   "version": "3.11.9"
  }
 },
 "nbformat": 4,
 "nbformat_minor": 5
}
